{
  "cells": [
    {
      "cell_type": "markdown",
      "metadata": {
        "id": "LbZcI9ZXHl3a"
      },
      "source": [
        "# Deep Q-Learning for Lunar Landing"
      ]
    },
    {
      "cell_type": "markdown",
      "metadata": {
        "id": "E8yPRjteXgPb"
      },
      "source": [
        "## Part 0 - Installing the required packages and importing the libraries"
      ]
    },
    {
      "cell_type": "markdown",
      "metadata": {
        "id": "slEm5teGWjWU"
      },
      "source": [
        "### Installing Gymnasium"
      ]
    },
    {
      "cell_type": "code",
      "execution_count": null,
      "metadata": {
        "id": "dbnq3XpoKa_7",
        "colab": {
          "base_uri": "https://localhost:8080/"
        },
        "outputId": "d83dc30a-427e-4f1c-b333-a5d6ae6a709d"
      },
      "outputs": [
        {
          "output_type": "stream",
          "name": "stdout",
          "text": [
            "Collecting gymnasium\n",
            "  Downloading gymnasium-0.29.1-py3-none-any.whl (953 kB)\n",
            "\u001b[2K     \u001b[90m━━━━━━━━━━━━━━━━━━━━━━━━━━━━━━━━━━━━━━━━\u001b[0m \u001b[32m953.9/953.9 kB\u001b[0m \u001b[31m6.6 MB/s\u001b[0m eta \u001b[36m0:00:00\u001b[0m\n",
            "\u001b[?25hRequirement already satisfied: numpy>=1.21.0 in /usr/local/lib/python3.10/dist-packages (from gymnasium) (1.25.2)\n",
            "Requirement already satisfied: cloudpickle>=1.2.0 in /usr/local/lib/python3.10/dist-packages (from gymnasium) (2.2.1)\n",
            "Requirement already satisfied: typing-extensions>=4.3.0 in /usr/local/lib/python3.10/dist-packages (from gymnasium) (4.12.2)\n",
            "Collecting farama-notifications>=0.0.1 (from gymnasium)\n",
            "  Downloading Farama_Notifications-0.0.4-py3-none-any.whl (2.5 kB)\n",
            "Installing collected packages: farama-notifications, gymnasium\n",
            "Successfully installed farama-notifications-0.0.4 gymnasium-0.29.1\n",
            "Requirement already satisfied: gymnasium[accept-rom-license,atari] in /usr/local/lib/python3.10/dist-packages (0.29.1)\n",
            "Requirement already satisfied: numpy>=1.21.0 in /usr/local/lib/python3.10/dist-packages (from gymnasium[accept-rom-license,atari]) (1.25.2)\n",
            "Requirement already satisfied: cloudpickle>=1.2.0 in /usr/local/lib/python3.10/dist-packages (from gymnasium[accept-rom-license,atari]) (2.2.1)\n",
            "Requirement already satisfied: typing-extensions>=4.3.0 in /usr/local/lib/python3.10/dist-packages (from gymnasium[accept-rom-license,atari]) (4.12.2)\n",
            "Requirement already satisfied: farama-notifications>=0.0.1 in /usr/local/lib/python3.10/dist-packages (from gymnasium[accept-rom-license,atari]) (0.0.4)\n",
            "Collecting shimmy[atari]<1.0,>=0.1.0 (from gymnasium[accept-rom-license,atari])\n",
            "  Downloading Shimmy-0.2.1-py3-none-any.whl (25 kB)\n",
            "Collecting autorom[accept-rom-license]~=0.4.2 (from gymnasium[accept-rom-license,atari])\n",
            "  Downloading AutoROM-0.4.2-py3-none-any.whl (16 kB)\n",
            "Requirement already satisfied: click in /usr/local/lib/python3.10/dist-packages (from autorom[accept-rom-license]~=0.4.2->gymnasium[accept-rom-license,atari]) (8.1.7)\n",
            "Requirement already satisfied: requests in /usr/local/lib/python3.10/dist-packages (from autorom[accept-rom-license]~=0.4.2->gymnasium[accept-rom-license,atari]) (2.31.0)\n",
            "Requirement already satisfied: tqdm in /usr/local/lib/python3.10/dist-packages (from autorom[accept-rom-license]~=0.4.2->gymnasium[accept-rom-license,atari]) (4.66.4)\n",
            "Collecting AutoROM.accept-rom-license (from autorom[accept-rom-license]~=0.4.2->gymnasium[accept-rom-license,atari])\n",
            "  Downloading AutoROM.accept-rom-license-0.6.1.tar.gz (434 kB)\n",
            "\u001b[2K     \u001b[90m━━━━━━━━━━━━━━━━━━━━━━━━━━━━━━━━━━━━━━━━\u001b[0m \u001b[32m434.7/434.7 kB\u001b[0m \u001b[31m19.8 MB/s\u001b[0m eta \u001b[36m0:00:00\u001b[0m\n",
            "\u001b[?25h  Installing build dependencies ... \u001b[?25l\u001b[?25hdone\n",
            "  Getting requirements to build wheel ... \u001b[?25l\u001b[?25hdone\n",
            "  Preparing metadata (pyproject.toml) ... \u001b[?25l\u001b[?25hdone\n",
            "Collecting ale-py~=0.8.1 (from shimmy[atari]<1.0,>=0.1.0->gymnasium[accept-rom-license,atari])\n",
            "  Downloading ale_py-0.8.1-cp310-cp310-manylinux_2_17_x86_64.manylinux2014_x86_64.whl (1.7 MB)\n",
            "\u001b[2K     \u001b[90m━━━━━━━━━━━━━━━━━━━━━━━━━━━━━━━━━━━━━━━━\u001b[0m \u001b[32m1.7/1.7 MB\u001b[0m \u001b[31m57.6 MB/s\u001b[0m eta \u001b[36m0:00:00\u001b[0m\n",
            "\u001b[?25hRequirement already satisfied: importlib-resources in /usr/local/lib/python3.10/dist-packages (from ale-py~=0.8.1->shimmy[atari]<1.0,>=0.1.0->gymnasium[accept-rom-license,atari]) (6.4.0)\n",
            "Requirement already satisfied: charset-normalizer<4,>=2 in /usr/local/lib/python3.10/dist-packages (from requests->autorom[accept-rom-license]~=0.4.2->gymnasium[accept-rom-license,atari]) (3.3.2)\n",
            "Requirement already satisfied: idna<4,>=2.5 in /usr/local/lib/python3.10/dist-packages (from requests->autorom[accept-rom-license]~=0.4.2->gymnasium[accept-rom-license,atari]) (3.7)\n",
            "Requirement already satisfied: urllib3<3,>=1.21.1 in /usr/local/lib/python3.10/dist-packages (from requests->autorom[accept-rom-license]~=0.4.2->gymnasium[accept-rom-license,atari]) (2.0.7)\n",
            "Requirement already satisfied: certifi>=2017.4.17 in /usr/local/lib/python3.10/dist-packages (from requests->autorom[accept-rom-license]~=0.4.2->gymnasium[accept-rom-license,atari]) (2024.6.2)\n",
            "Building wheels for collected packages: AutoROM.accept-rom-license\n",
            "  Building wheel for AutoROM.accept-rom-license (pyproject.toml) ... \u001b[?25l\u001b[?25hdone\n",
            "  Created wheel for AutoROM.accept-rom-license: filename=AutoROM.accept_rom_license-0.6.1-py3-none-any.whl size=446661 sha256=2c20b7b62ec3666823d203968ed870fc1ffbc66a012dfa2c495aa4aec65995b4\n",
            "  Stored in directory: /root/.cache/pip/wheels/6b/1b/ef/a43ff1a2f1736d5711faa1ba4c1f61be1131b8899e6a057811\n",
            "Successfully built AutoROM.accept-rom-license\n",
            "Installing collected packages: ale-py, shimmy, AutoROM.accept-rom-license, autorom\n",
            "Successfully installed AutoROM.accept-rom-license-0.6.1 ale-py-0.8.1 autorom-0.4.2 shimmy-0.2.1\n",
            "Reading package lists... Done\n",
            "Building dependency tree... Done\n",
            "Reading state information... Done\n",
            "The following additional packages will be installed:\n",
            "  swig4.0\n",
            "Suggested packages:\n",
            "  swig-doc swig-examples swig4.0-examples swig4.0-doc\n",
            "The following NEW packages will be installed:\n",
            "  swig swig4.0\n",
            "0 upgraded, 2 newly installed, 0 to remove and 45 not upgraded.\n",
            "Need to get 1,116 kB of archives.\n",
            "After this operation, 5,542 kB of additional disk space will be used.\n",
            "Get:1 http://archive.ubuntu.com/ubuntu jammy/universe amd64 swig4.0 amd64 4.0.2-1ubuntu1 [1,110 kB]\n",
            "Get:2 http://archive.ubuntu.com/ubuntu jammy/universe amd64 swig all 4.0.2-1ubuntu1 [5,632 B]\n",
            "Fetched 1,116 kB in 0s (7,828 kB/s)\n",
            "Selecting previously unselected package swig4.0.\n",
            "(Reading database ... 121925 files and directories currently installed.)\n",
            "Preparing to unpack .../swig4.0_4.0.2-1ubuntu1_amd64.deb ...\n",
            "Unpacking swig4.0 (4.0.2-1ubuntu1) ...\n",
            "Selecting previously unselected package swig.\n",
            "Preparing to unpack .../swig_4.0.2-1ubuntu1_all.deb ...\n",
            "Unpacking swig (4.0.2-1ubuntu1) ...\n",
            "Setting up swig4.0 (4.0.2-1ubuntu1) ...\n",
            "Setting up swig (4.0.2-1ubuntu1) ...\n",
            "Processing triggers for man-db (2.10.2-1) ...\n",
            "Requirement already satisfied: gymnasium[box2d] in /usr/local/lib/python3.10/dist-packages (0.29.1)\n",
            "Requirement already satisfied: numpy>=1.21.0 in /usr/local/lib/python3.10/dist-packages (from gymnasium[box2d]) (1.25.2)\n",
            "Requirement already satisfied: cloudpickle>=1.2.0 in /usr/local/lib/python3.10/dist-packages (from gymnasium[box2d]) (2.2.1)\n",
            "Requirement already satisfied: typing-extensions>=4.3.0 in /usr/local/lib/python3.10/dist-packages (from gymnasium[box2d]) (4.12.2)\n",
            "Requirement already satisfied: farama-notifications>=0.0.1 in /usr/local/lib/python3.10/dist-packages (from gymnasium[box2d]) (0.0.4)\n",
            "Collecting box2d-py==2.3.5 (from gymnasium[box2d])\n",
            "  Downloading box2d-py-2.3.5.tar.gz (374 kB)\n",
            "\u001b[2K     \u001b[90m━━━━━━━━━━━━━━━━━━━━━━━━━━━━━━━━━━━━━━━━\u001b[0m \u001b[32m374.4/374.4 kB\u001b[0m \u001b[31m6.9 MB/s\u001b[0m eta \u001b[36m0:00:00\u001b[0m\n",
            "\u001b[?25h  Preparing metadata (setup.py) ... \u001b[?25l\u001b[?25hdone\n",
            "Requirement already satisfied: pygame>=2.1.3 in /usr/local/lib/python3.10/dist-packages (from gymnasium[box2d]) (2.6.0)\n",
            "Collecting swig==4.* (from gymnasium[box2d])\n",
            "  Downloading swig-4.2.1-py2.py3-none-manylinux_2_5_x86_64.manylinux1_x86_64.whl (1.9 MB)\n",
            "\u001b[2K     \u001b[90m━━━━━━━━━━━━━━━━━━━━━━━━━━━━━━━━━━━━━━━━\u001b[0m \u001b[32m1.9/1.9 MB\u001b[0m \u001b[31m16.7 MB/s\u001b[0m eta \u001b[36m0:00:00\u001b[0m\n",
            "\u001b[?25hBuilding wheels for collected packages: box2d-py\n",
            "  Building wheel for box2d-py (setup.py) ... \u001b[?25l\u001b[?25hdone\n",
            "  Created wheel for box2d-py: filename=box2d_py-2.3.5-cp310-cp310-linux_x86_64.whl size=2349149 sha256=c6147737c9cedc73edd9a0c137a1b2637413c62fa2892495b03f043d2beb9705\n",
            "  Stored in directory: /root/.cache/pip/wheels/db/8f/6a/eaaadf056fba10a98d986f6dce954e6201ba3126926fc5ad9e\n",
            "Successfully built box2d-py\n",
            "Installing collected packages: swig, box2d-py\n",
            "Successfully installed box2d-py-2.3.5 swig-4.2.1\n"
          ]
        }
      ],
      "source": [
        "!pip install gymnasium\n",
        "!pip install \"gymnasium[atari, accept-rom-license]\"\n",
        "!apt-get install -y swig\n",
        "!pip install gymnasium[box2d]"
      ]
    },
    {
      "cell_type": "markdown",
      "metadata": {
        "id": "brqiMN3UW9T9"
      },
      "source": [
        "### Importing the libraries"
      ]
    },
    {
      "cell_type": "code",
      "execution_count": null,
      "metadata": {
        "id": "mZaKXP_aMl9O"
      },
      "outputs": [],
      "source": [
        "import os\n",
        "import random\n",
        "import numpy as np\n",
        "import torch\n",
        "import torch.nn as nn\n",
        "import torch.optim as optim\n",
        "import torch.nn.functional as F\n",
        "import torch.autograd as autograd\n",
        "from torch.autograd import Variable\n",
        "from collections import deque, namedtuple"
      ]
    },
    {
      "cell_type": "markdown",
      "metadata": {
        "id": "EzlDKXvkXzGI"
      },
      "source": [
        "## Part 1 - Building the AI"
      ]
    },
    {
      "cell_type": "markdown",
      "metadata": {
        "id": "UtG6Zc83YYy3"
      },
      "source": [
        "### Creating the architecture of the Neural Network"
      ]
    },
    {
      "cell_type": "markdown",
      "source": [
        "Fully connected layers (or linear layers) are basic layers in neural networks where each input node is connected to each output node.\n",
        "\n"
      ],
      "metadata": {
        "id": "JDo1H8qOhMYn"
      }
    },
    {
      "cell_type": "code",
      "source": [
        "class Network(nn.Module):\n",
        "\n",
        "  def __init__(self, state_size, action_size, seed = 42): # The seed parameter is used for reproducibility (ensuring that results can be repeated).\n",
        "    super(Network, self).__init__()  #initialize the inherited properties.\n",
        "    self.seed = torch.manual_seed(seed) #This sets the random seed for PyTorch to ensure that the random operations are reproducible.\n",
        "    self.fc1 = nn.Linear(state_size, 64) #A fully connected layer that takes state_size inputs and outputs 64 features.\n",
        "    self.fc2 = nn.Linear(64, 64) #Another fully connected layer that takes 64 inputs and outputs 64 features.\n",
        "    self.fc3 = nn.Linear(64, action_size) #A fully connected layer that takes 64 inputs and outputs action_size features.\n",
        "\n",
        "  def forward(self, state): #This method defines the forward pass of the network, which is how the input data passes through the network to produce an output.\n",
        "    x = self.fc1(state) #Passes the input state through the first fully connected layer.\n",
        "    x = F.relu(x) # Applies the ReLU (Rectified Linear Unit) activation function to the output of the first layer.\n",
        "    x = self.fc2(x) # Passes the result through the second fully connected layer.\n",
        "    x = F.relu(x)\n",
        "    return self.fc3(x)"
      ],
      "metadata": {
        "id": "h9oUxasLEJx9"
      },
      "execution_count": null,
      "outputs": []
    },
    {
      "cell_type": "markdown",
      "source": [
        "**Why is this Important?**\n",
        "\n",
        "This class defines the architecture of the neural network, specifying the number and types of layers.\n",
        "\n",
        "The forward method specifies how the data flows through the network, which is crucial for both training and inference.\n",
        "\n",
        " The use of ReLU activation functions introduces non-linearity, allowing the network to learn more complex functions."
      ],
      "metadata": {
        "id": "9F5jKjjvimSz"
      }
    },
    {
      "cell_type": "markdown",
      "metadata": {
        "id": "UxVrBnFWZKb1"
      },
      "source": [
        "## Part 2 - Training the AI"
      ]
    },
    {
      "cell_type": "markdown",
      "metadata": {
        "id": "T364fz9qZb2j"
      },
      "source": [
        "### Setting up the environment"
      ]
    },
    {
      "cell_type": "code",
      "source": [
        "import gymnasium as gym\n",
        "env = gym.make('LunarLander-v2') # an instance of the LunarLander-v2 environment.\n",
        "state_shape = env.observation_space.shape #This attribute defines the space of all possible states the environment can be in.\n",
        "state_size = env.observation_space.shape[0]\n",
        "number_actions = env.action_space.n\n",
        "print('State shape: ', state_shape)\n",
        "print('State size: ', state_size)\n",
        "print('Number of actions: ', number_actions)"
      ],
      "metadata": {
        "colab": {
          "base_uri": "https://localhost:8080/"
        },
        "id": "NUWiCFWySXIh",
        "outputId": "87fb8314-9eff-4d2d-c917-142f068283cb"
      },
      "execution_count": null,
      "outputs": [
        {
          "output_type": "stream",
          "name": "stdout",
          "text": [
            "State shape:  (8,)\n",
            "State size:  8\n",
            "Number of actions:  4\n"
          ]
        }
      ]
    },
    {
      "cell_type": "markdown",
      "metadata": {
        "id": "c_dZmOIvZgj-"
      },
      "source": [
        "### Initializing the hyperparameters"
      ]
    },
    {
      "cell_type": "markdown",
      "source": [
        "**Learning Rate:** This controls how much to adjust the model's weights with respect to the loss gradient during training. A smaller learning rate makes the training more stable by making smaller updates, but it might take longer to converge. On the other side, a larger learning rate speeds up the training but can overshoot the optimal solution. 5e-4 (or 0.0005) is a relatively small learning rate, which helps in making fine updates to the model parameters."
      ],
      "metadata": {
        "id": "vFrVNBwxka8g"
      }
    },
    {
      "cell_type": "markdown",
      "source": [
        "**Minibatch Size:** This is the number of samples from the replay buffer that the model trains on at each training step. Instead of updating the model weights after every single sample, minibatches of samples are used to provide a more stable estimate of the gradient. A minibatch size of 100 means that 100 experiences (state, action, reward, next state) will be sampled and used to update the model in each training iteration.\n"
      ],
      "metadata": {
        "id": "JLETko3sklmw"
      }
    },
    {
      "cell_type": "markdown",
      "source": [
        "**Discount Factor (γ):** This determines how much future rewards are worth compared to immediate rewards. A discount factor close to 1 (like 0.99) means that future rewards are almost as valuable as immediate rewards, encouraging the agent to consider long-term gains. The discount factor helps the agent balance short-term and long-term rewards.\n"
      ],
      "metadata": {
        "id": "Dcz5lg_AkqUY"
      }
    },
    {
      "cell_type": "markdown",
      "source": [
        "**Replay Buffer Size:** The replay buffer stores past experiences for training. Using a replay buffer helps in breaking the correlation between consecutive experiences by sampling randomly from the buffer. A size of 1e5 (or 100,000) means that the buffer can store up to 100,000 experiences. This size is large enough to provide a diverse set of experiences for training while keeping the memory usage manageable.\n"
      ],
      "metadata": {
        "id": "9SK3qvSll4Vp"
      }
    },
    {
      "cell_type": "markdown",
      "source": [
        "**Interpolation Parameter (τ):** This is used in the soft update of the target network in Double DQN (Deep Q-Network). Instead of copying the weights directly from the main network to the target network, a small fraction of the main network's weights (defined by τ) is added to the target network's weights. This soft update helps in stabilizing the learning process by making gradual updates to the target network. An interpolation parameter of 1e-3 (or 0.001) means that the target network is updated slowly and smoothly.\n"
      ],
      "metadata": {
        "id": "SweuNpwZmQar"
      }
    },
    {
      "cell_type": "code",
      "source": [
        "learning_rate = 5e-4\n",
        "minibatch_size = 100\n",
        "discount_factor = 0.99\n",
        "replay_buffer_size = int(1e5)\n",
        "interpolation_parameter = 1e-3"
      ],
      "metadata": {
        "id": "bNKnUzj1Oqz8",
        "colab": {
          "base_uri": "https://localhost:8080/"
        },
        "outputId": "6e75057e-5a18-41d7-df9b-79d7335f960a"
      },
      "execution_count": null,
      "outputs": [
        {
          "output_type": "stream",
          "name": "stderr",
          "text": [
            "/usr/local/lib/python3.10/dist-packages/ipykernel/ipkernel.py:283: DeprecationWarning: `should_run_async` will not call `transform_cell` automatically in the future. Please pass the result to `transformed_cell` argument and any exception that happen during thetransform in `preprocessing_exc_tuple` in IPython 7.17 and above.\n",
            "  and should_run_async(code)\n"
          ]
        }
      ]
    },
    {
      "cell_type": "markdown",
      "metadata": {
        "id": "8hD_Vs-bYnip"
      },
      "source": [
        "### Implementing Experience Replay"
      ]
    },
    {
      "cell_type": "markdown",
      "source": [
        "**Capacity:** This sets the maximum number of experiences the replay buffer can hold.\n",
        "\n",
        "**Memory:** This initializes an empty list to store the experiences."
      ],
      "metadata": {
        "id": "Wk1fyXk5nACP"
      }
    },
    {
      "cell_type": "markdown",
      "source": [
        "**Initial State:** The lunar lander is hovering above the ground at a certain position and velocity.\n",
        "\n",
        "**Action:** The agent decides to fire the main engine.\n",
        "\n",
        "\n",
        "\n",
        "*   Do nothing.\n",
        "*   Fire left orientation engine.\n",
        "*   Fire main engine.\n",
        "*   Fire right orientation engine.\n",
        "\n",
        "\n",
        "**Next State:** After firing the main engine, the new position and velocity of the lander are updated.\n",
        "\n",
        "**Reward:** The agent receives a small negative reward for using fuel but might get a positive reward if it moved closer to the landing pad.\n",
        "\n",
        "**Done Flag:** The episode continues because the lander has not crashed or landed yet.\n",
        "\n",
        "\n"
      ],
      "metadata": {
        "id": "wBMELEMgp5BS"
      }
    },
    {
      "cell_type": "code",
      "source": [
        "class ReplayMemory(object): #This line defines a new class ReplayMemory which will manage the storage and sampling of experiences.\n",
        "\n",
        "  def __init__(self, capacity):\n",
        "    # This line checks if a GPU (CUDA) is available. If it is, it sets the device to GPU (cuda:0); otherwise, it defaults to the CPU. This ensures that tensor operations can leverage GPU acceleration if available, speeding up computations.\n",
        "    self.device = torch.device(\"cuda:0\" if torch.cuda.is_available() else \"cpu\")\n",
        "    self.capacity = capacity\n",
        "    self.memory = []\n",
        "\n",
        "  def push(self, event): #This method adds new experiences to the replay memory.\n",
        "    self.memory.append(event) #Adds the new experience (event) to the memory list.\n",
        "    if len(self.memory) > self.capacity:\n",
        "      del self.memory[0] #If the memory exceeds its capacity, it removes the oldest experience (at index 0).\n",
        "\n",
        "  def sample(self, batch_size):\n",
        "    experiences = random.sample(self.memory, k = batch_size) #Randomly selects batch_size experiences from the memory. This\n",
        "    states = torch.from_numpy(np.vstack([e[0] for e in experiences if e is not None])).float().to(self.device)\n",
        "    actions = torch.from_numpy(np.vstack([e[1] for e in experiences if e is not None])).long().to(self.device)\n",
        "    rewards = torch.from_numpy(np.vstack([e[2] for e in experiences if e is not None])).float().to(self.device)\n",
        "    next_states = torch.from_numpy(np.vstack([e[3] for e in experiences if e is not None])).float().to(self.device)\n",
        "    dones = torch.from_numpy(np.vstack([e[4] for e in experiences if e is not None]).astype(np.uint8)).float().to(self.device)\n",
        "    return states, next_states, actions, rewards, dones"
      ],
      "metadata": {
        "id": "QaEChoj_uRoe"
      },
      "execution_count": null,
      "outputs": []
    },
    {
      "cell_type": "markdown",
      "metadata": {
        "id": "JmEkbFbUY6Jt"
      },
      "source": [
        "### Implementing the DQN class"
      ]
    },
    {
      "cell_type": "markdown",
      "source": [],
      "metadata": {
        "id": "K6d-oms7y-Xn"
      }
    },
    {
      "cell_type": "code",
      "source": [
        "class Agent():\n",
        "\n",
        "  def __init__(self, state_size, action_size):\n",
        "    self.device = torch.device(\"cuda:0\" if torch.cuda.is_available() else \"cpu\")\n",
        "    self.state_size = state_size\n",
        "    self.action_size = action_size\n",
        "    #This neural network is used to estimate Q-values for the current states and actions. It is updated frequently during training.\n",
        "    self.local_qnetwork = Network(state_size, action_size).to(self.device)\n",
        "    #This network is used to estimate the target Q-values during the update step. It is updated less frequently to provide stable target values.\n",
        "    self.target_qnetwork = Network(state_size, action_size).to(self.device)\n",
        "    self.optimizer = optim.Adam(self.local_qnetwork.parameters(), lr = learning_rate)\n",
        "    #This initializes the replay buffer with a specified capacity to store and sample past experiences for training.\n",
        "    self.memory = ReplayMemory(replay_buffer_size)\n",
        "    self.t_step = 0\n",
        "\n",
        "  def step(self, state, action, reward, next_state, done):\n",
        "    self.memory.push((state, action, reward, next_state, done))\n",
        "    self.t_step = (self.t_step + 1) % 4\n",
        "    if self.t_step == 0:\n",
        "      if len(self.memory.memory) > minibatch_size:\n",
        "        experiences = self.memory.sample(100)\n",
        "        self.learn(experiences, discount_factor)\n",
        "\n",
        "  def act(self, state, epsilon = 0.):\n",
        "    state = torch.from_numpy(state).float().unsqueeze(0).to(self.device)\n",
        "    self.local_qnetwork.eval()\n",
        "    with torch.no_grad():\n",
        "      action_values = self.local_qnetwork(state)\n",
        "    self.local_qnetwork.train()\n",
        "    if random.random() > epsilon:\n",
        "      return np.argmax(action_values.cpu().data.numpy())\n",
        "    else:\n",
        "      return random.choice(np.arange(self.action_size))\n",
        "\n",
        "  def learn(self, experiences, discount_factor):\n",
        "    states, next_states, actions, rewards, dones = experiences\n",
        "    next_q_targets = self.target_qnetwork(next_states).detach().max(1)[0].unsqueeze(1)\n",
        "    q_targets = rewards + discount_factor * next_q_targets * (1 - dones)\n",
        "    q_expected = self.local_qnetwork(states).gather(1, actions)\n",
        "    loss = F.mse_loss(q_expected, q_targets)\n",
        "    self.optimizer.zero_grad()\n",
        "    loss.backward()\n",
        "    self.optimizer.step()\n",
        "    self.soft_update(self.local_qnetwork, self.target_qnetwork, interpolation_parameter)\n",
        "\n",
        "  def soft_update(self, local_model, target_model, interpolation_parameter):\n",
        "    for target_param, local_param in zip(target_model.parameters(), local_model.parameters()):\n",
        "      target_param.data.copy_(interpolation_parameter * local_param.data + (1.0 - interpolation_parameter) * target_param.data)"
      ],
      "metadata": {
        "id": "iokmjTKJ9E3U"
      },
      "execution_count": null,
      "outputs": []
    },
    {
      "cell_type": "markdown",
      "metadata": {
        "id": "o1tZElccZmf6"
      },
      "source": [
        "### Initializing the DQN agent"
      ]
    },
    {
      "cell_type": "code",
      "source": [
        "agent = Agent(state_size, number_actions)"
      ],
      "metadata": {
        "id": "cGbpJJvLjmIw"
      },
      "execution_count": null,
      "outputs": []
    },
    {
      "cell_type": "markdown",
      "metadata": {
        "id": "E8v0PtUfaVQp"
      },
      "source": [
        "### Training the DQN agent"
      ]
    },
    {
      "cell_type": "code",
      "source": [
        "number_episodes = 2000\n",
        "maximum_number_timesteps_per_episode = 1000\n",
        "epsilon_starting_value  = 1.0\n",
        "epsilon_ending_value  = 0.01\n",
        "epsilon_decay_value  = 0.995\n",
        "epsilon = epsilon_starting_value\n",
        "scores_on_100_episodes = deque(maxlen = 100)\n",
        "\n",
        "for episode in range(1, number_episodes + 1):\n",
        "  state, _ = env.reset()\n",
        "  score = 0\n",
        "  for t in range(maximum_number_timesteps_per_episode):\n",
        "    action = agent.act(state, epsilon)\n",
        "    next_state, reward, done, _, _ = env.step(action)\n",
        "    agent.step(state, action, reward, next_state, done)\n",
        "    state = next_state\n",
        "    score += reward\n",
        "    if done:\n",
        "      break\n",
        "  scores_on_100_episodes.append(score)\n",
        "  epsilon = max(epsilon_ending_value, epsilon_decay_value * epsilon)\n",
        "  print('\\rEpisode {}\\tAverage Score: {:.2f}'.format(episode, np.mean(scores_on_100_episodes)), end = \"\")\n",
        "  if episode % 100 == 0:\n",
        "    print('\\rEpisode {}\\tAverage Score: {:.2f}'.format(episode, np.mean(scores_on_100_episodes)))\n",
        "  if np.mean(scores_on_100_episodes) >= 200.0:\n",
        "    print('\\nEnvironment solved in {:d} episodes!\\tAverage Score: {:.2f}'.format(episode - 100, np.mean(scores_on_100_episodes)))\n",
        "    torch.save(agent.local_qnetwork.state_dict(), 'checkpoint.pth')\n",
        "    break"
      ],
      "metadata": {
        "colab": {
          "base_uri": "https://localhost:8080/"
        },
        "id": "2ybZW6Im-Bwj",
        "outputId": "6437f634-a245-41a9-f136-da86ce5b508a"
      },
      "execution_count": null,
      "outputs": [
        {
          "output_type": "stream",
          "name": "stderr",
          "text": [
            "/usr/local/lib/python3.10/dist-packages/ipykernel/ipkernel.py:283: DeprecationWarning: `should_run_async` will not call `transform_cell` automatically in the future. Please pass the result to `transformed_cell` argument and any exception that happen during thetransform in `preprocessing_exc_tuple` in IPython 7.17 and above.\n",
            "  and should_run_async(code)\n"
          ]
        },
        {
          "output_type": "stream",
          "name": "stdout",
          "text": [
            "Episode 100\tAverage Score: -162.27\n",
            "Episode 200\tAverage Score: -118.46\n",
            "Episode 300\tAverage Score: -25.03\n",
            "Episode 400\tAverage Score: -0.05\n",
            "Episode 500\tAverage Score: 128.99\n",
            "Episode 600\tAverage Score: 133.90\n",
            "Episode 700\tAverage Score: 152.36\n",
            "Episode 800\tAverage Score: 176.00\n",
            "Episode 888\tAverage Score: 200.21\n",
            "Environment solved in 788 episodes!\tAverage Score: 200.21\n"
          ]
        }
      ]
    },
    {
      "cell_type": "markdown",
      "metadata": {
        "id": "O8CNwdOTcCoP"
      },
      "source": [
        "## Part 3 - Visualizing the results"
      ]
    },
    {
      "cell_type": "code",
      "execution_count": null,
      "metadata": {
        "id": "cb9nVvU2Okhk",
        "colab": {
          "base_uri": "https://localhost:8080/",
          "height": 459
        },
        "outputId": "103bfdf6-5e99-43ca-8793-6ee98e7194f2"
      },
      "outputs": [
        {
          "output_type": "stream",
          "name": "stderr",
          "text": [
            "WARNING:imageio_ffmpeg:IMAGEIO FFMPEG_WRITER WARNING: input image is not divisible by macro_block_size=16, resizing from (600, 400) to (608, 400) to ensure video compatibility with most codecs and players. To prevent resizing, make your input image divisible by the macro_block_size or set the macro_block_size to 1 (risking incompatibility).\n"
          ]
        },
        {
          "output_type": "display_data",
          "data": {
            "text/plain": [
              "<IPython.core.display.HTML object>"
            ],
            "text/html": [
              "<video alt=\"test\" autoplay\n",
              "                loop controls style=\"height: 400px;\">\n",
              "                <source src=\"data:video/mp4;base64,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\" type=\"video/mp4\" />\n",
              "             </video>"
            ]
          },
          "metadata": {}
        }
      ],
      "source": [
        "import glob\n",
        "import io\n",
        "import base64\n",
        "import imageio\n",
        "from IPython.display import HTML, display\n",
        "from gym.wrappers.monitoring.video_recorder import VideoRecorder\n",
        "\n",
        "def show_video_of_model(agent, env_name):\n",
        "    env = gym.make(env_name, render_mode='rgb_array')\n",
        "    state, _ = env.reset()\n",
        "    done = False\n",
        "    frames = []\n",
        "    while not done:\n",
        "        frame = env.render()\n",
        "        frames.append(frame)\n",
        "        action = agent.act(state)\n",
        "        state, reward, done, _, _ = env.step(action.item())\n",
        "    env.close()\n",
        "    imageio.mimsave('video.mp4', frames, fps=30)\n",
        "\n",
        "show_video_of_model(agent, 'LunarLander-v2')\n",
        "\n",
        "def show_video():\n",
        "    mp4list = glob.glob('*.mp4')\n",
        "    if len(mp4list) > 0:\n",
        "        mp4 = mp4list[0]\n",
        "        video = io.open(mp4, 'r+b').read()\n",
        "        encoded = base64.b64encode(video)\n",
        "        display(HTML(data='''<video alt=\"test\" autoplay\n",
        "                loop controls style=\"height: 400px;\">\n",
        "                <source src=\"data:video/mp4;base64,{0}\" type=\"video/mp4\" />\n",
        "             </video>'''.format(encoded.decode('ascii'))))\n",
        "    else:\n",
        "        print(\"Could not find video\")\n",
        "\n",
        "show_video()"
      ]
    }
  ],
  "metadata": {
    "colab": {
      "provenance": []
    },
    "kernelspec": {
      "display_name": "Python 3",
      "name": "python3"
    },
    "language_info": {
      "name": "python"
    }
  },
  "nbformat": 4,
  "nbformat_minor": 0
}